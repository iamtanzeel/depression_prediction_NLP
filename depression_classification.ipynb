{
 "cells": [
  {
   "cell_type": "code",
   "execution_count": 1,
   "id": "aeb4fe7e",
   "metadata": {},
   "outputs": [],
   "source": [
    "import pandas as pd\n",
    "import numpy as np\n",
    "import matplotlib.pyplot as plt\n",
    "import seaborn as sns\n",
    "\n",
    "from sklearn.model_selection import train_test_split\n",
    "from sklearn.naive_bayes import MultinomialNB\n",
    "from sklearn.preprocessing import MinMaxScaler\n",
    "from sklearn.metrics import classification_report, confusion_matrix\n",
    "from sklearn.feature_extraction.text import TfidfVectorizer\n",
    "from sklearn.pipeline import Pipeline"
   ]
  },
  {
   "cell_type": "markdown",
   "id": "79886141",
   "metadata": {},
   "source": [
    "# EDA"
   ]
  },
  {
   "cell_type": "code",
   "execution_count": 2,
   "id": "2683e7bd",
   "metadata": {},
   "outputs": [
    {
     "data": {
      "text/html": [
       "<div>\n",
       "<style scoped>\n",
       "    .dataframe tbody tr th:only-of-type {\n",
       "        vertical-align: middle;\n",
       "    }\n",
       "\n",
       "    .dataframe tbody tr th {\n",
       "        vertical-align: top;\n",
       "    }\n",
       "\n",
       "    .dataframe thead th {\n",
       "        text-align: right;\n",
       "    }\n",
       "</style>\n",
       "<table border=\"1\" class=\"dataframe\">\n",
       "  <thead>\n",
       "    <tr style=\"text-align: right;\">\n",
       "      <th></th>\n",
       "      <th>clean_text</th>\n",
       "      <th>is_depression</th>\n",
       "    </tr>\n",
       "  </thead>\n",
       "  <tbody>\n",
       "    <tr>\n",
       "      <th>0</th>\n",
       "      <td>we understand that most people who reply immed...</td>\n",
       "      <td>1</td>\n",
       "    </tr>\n",
       "    <tr>\n",
       "      <th>1</th>\n",
       "      <td>welcome to r depression s check in post a plac...</td>\n",
       "      <td>1</td>\n",
       "    </tr>\n",
       "    <tr>\n",
       "      <th>2</th>\n",
       "      <td>anyone else instead of sleeping more when depr...</td>\n",
       "      <td>1</td>\n",
       "    </tr>\n",
       "    <tr>\n",
       "      <th>3</th>\n",
       "      <td>i ve kind of stuffed around a lot in my life d...</td>\n",
       "      <td>1</td>\n",
       "    </tr>\n",
       "    <tr>\n",
       "      <th>4</th>\n",
       "      <td>sleep is my greatest and most comforting escap...</td>\n",
       "      <td>1</td>\n",
       "    </tr>\n",
       "  </tbody>\n",
       "</table>\n",
       "</div>"
      ],
      "text/plain": [
       "                                          clean_text  is_depression\n",
       "0  we understand that most people who reply immed...              1\n",
       "1  welcome to r depression s check in post a plac...              1\n",
       "2  anyone else instead of sleeping more when depr...              1\n",
       "3  i ve kind of stuffed around a lot in my life d...              1\n",
       "4  sleep is my greatest and most comforting escap...              1"
      ]
     },
     "execution_count": 2,
     "metadata": {},
     "output_type": "execute_result"
    }
   ],
   "source": [
    "df = pd.read_csv('depression_dataset_reddit_cleaned.csv')\n",
    "df.head()"
   ]
  },
  {
   "cell_type": "code",
   "execution_count": 3,
   "id": "dd2e9ccb",
   "metadata": {},
   "outputs": [
    {
     "data": {
      "text/plain": [
       "(7731, 2)"
      ]
     },
     "execution_count": 3,
     "metadata": {},
     "output_type": "execute_result"
    }
   ],
   "source": [
    "df.shape"
   ]
  },
  {
   "cell_type": "code",
   "execution_count": 4,
   "id": "c05a6c27",
   "metadata": {},
   "outputs": [
    {
     "data": {
      "text/plain": [
       "0    3900\n",
       "1    3831\n",
       "Name: is_depression, dtype: int64"
      ]
     },
     "execution_count": 4,
     "metadata": {},
     "output_type": "execute_result"
    }
   ],
   "source": [
    "df['is_depression'].value_counts()"
   ]
  },
  {
   "cell_type": "code",
   "execution_count": 5,
   "id": "6e6d4976",
   "metadata": {},
   "outputs": [
    {
     "data": {
      "text/plain": [
       "<AxesSubplot:xlabel='is_depression', ylabel='count'>"
      ]
     },
     "execution_count": 5,
     "metadata": {},
     "output_type": "execute_result"
    },
    {
     "data": {
      "image/png": "[encoded data removed]",
      "text/plain": [
       "<Figure size 640x480 with 1 Axes>"
      ]
     },
     "metadata": {},
     "output_type": "display_data"
    }
   ],
   "source": [
    "sns.countplot(x=df['is_depression'])"
   ]
  },
  {
   "cell_type": "code",
   "execution_count": 6,
   "id": "75dd8931",
   "metadata": {},
   "outputs": [
    {
     "data": {
      "text/plain": [
       "clean_text       0\n",
       "is_depression    0\n",
       "dtype: int64"
      ]
     },
     "execution_count": 6,
     "metadata": {},
     "output_type": "execute_result"
    }
   ],
   "source": [
    "df.isnull().sum()"
   ]
  },
  {
   "cell_type": "markdown",
   "id": "60753a2c",
   "metadata": {},
   "source": [
    "# Text Preprocessing:"
   ]
  },
  {
   "cell_type": "code",
   "execution_count": 7,
   "id": "25fadaeb",
   "metadata": {},
   "outputs": [],
   "source": [
    "import spacy \n",
    "nlp = spacy.load(\"en_core_web_lg\")"
   ]
  },
  {
   "cell_type": "code",
   "execution_count": 8,
   "id": "d7a06553",
   "metadata": {},
   "outputs": [],
   "source": [
    "def preprocess(text):\n",
    "    doc = nlp(text)\n",
    "    filtered_text = []\n",
    "    for token in doc:\n",
    "        if token.is_stop or token.is_punct:\n",
    "            continue\n",
    "        filtered_text.append(token.lemma_.lower())\n",
    "        \n",
    "    return \" \".join(filtered_text)\n",
    "    "
   ]
  },
  {
   "cell_type": "code",
   "execution_count": 9,
   "id": "6420a215",
   "metadata": {},
   "outputs": [],
   "source": [
    "df['preprocessed_text'] = df['clean_text'].apply(preprocess)\n"
   ]
  },
  {
   "cell_type": "code",
   "execution_count": 10,
   "id": "7fd2c1d3",
   "metadata": {},
   "outputs": [
    {
     "data": {
      "text/html": [
       "<div>\n",
       "<style scoped>\n",
       "    .dataframe tbody tr th:only-of-type {\n",
       "        vertical-align: middle;\n",
       "    }\n",
       "\n",
       "    .dataframe tbody tr th {\n",
       "        vertical-align: top;\n",
       "    }\n",
       "\n",
       "    .dataframe thead th {\n",
       "        text-align: right;\n",
       "    }\n",
       "</style>\n",
       "<table border=\"1\" class=\"dataframe\">\n",
       "  <thead>\n",
       "    <tr style=\"text-align: right;\">\n",
       "      <th></th>\n",
       "      <th>clean_text</th>\n",
       "      <th>is_depression</th>\n",
       "      <th>preprocessed_text</th>\n",
       "    </tr>\n",
       "  </thead>\n",
       "  <tbody>\n",
       "    <tr>\n",
       "      <th>0</th>\n",
       "      <td>we understand that most people who reply immed...</td>\n",
       "      <td>1</td>\n",
       "      <td>understand people reply immediately op invitat...</td>\n",
       "    </tr>\n",
       "    <tr>\n",
       "      <th>1</th>\n",
       "      <td>welcome to r depression s check in post a plac...</td>\n",
       "      <td>1</td>\n",
       "      <td>welcome r depression s check post place moment...</td>\n",
       "    </tr>\n",
       "    <tr>\n",
       "      <th>2</th>\n",
       "      <td>anyone else instead of sleeping more when depr...</td>\n",
       "      <td>1</td>\n",
       "      <td>instead sleep depressed stay night avoid day c...</td>\n",
       "    </tr>\n",
       "    <tr>\n",
       "      <th>3</th>\n",
       "      <td>i ve kind of stuffed around a lot in my life d...</td>\n",
       "      <td>1</td>\n",
       "      <td>ve kind stuff lot life delay inevitable have w...</td>\n",
       "    </tr>\n",
       "    <tr>\n",
       "      <th>4</th>\n",
       "      <td>sleep is my greatest and most comforting escap...</td>\n",
       "      <td>1</td>\n",
       "      <td>sleep great comforting escape wake day literal...</td>\n",
       "    </tr>\n",
       "    <tr>\n",
       "      <th>5</th>\n",
       "      <td>i m year old turning soon in a few month i liv...</td>\n",
       "      <td>1</td>\n",
       "      <td>m year old turning soon month live constant dr...</td>\n",
       "    </tr>\n",
       "    <tr>\n",
       "      <th>6</th>\n",
       "      <td>i live alone and despite me being prone to lon...</td>\n",
       "      <td>1</td>\n",
       "      <td>live despite prone loneliness find emotionally...</td>\n",
       "    </tr>\n",
       "    <tr>\n",
       "      <th>7</th>\n",
       "      <td>i m not looking for sympathy just simply to st...</td>\n",
       "      <td>1</td>\n",
       "      <td>m look sympathy simply state m try survive m s...</td>\n",
       "    </tr>\n",
       "    <tr>\n",
       "      <th>8</th>\n",
       "      <td>i don t know how to communicate all of my thou...</td>\n",
       "      <td>1</td>\n",
       "      <td>don t know communicate thought stay inside ins...</td>\n",
       "    </tr>\n",
       "    <tr>\n",
       "      <th>9</th>\n",
       "      <td>mom i m sad it hurt in my heart the feeling fa...</td>\n",
       "      <td>1</td>\n",
       "      <td>mom m sad hurt heart feeling fall stomach t st...</td>\n",
       "    </tr>\n",
       "  </tbody>\n",
       "</table>\n",
       "</div>"
      ],
      "text/plain": [
       "                                          clean_text  is_depression  \\\n",
       "0  we understand that most people who reply immed...              1   \n",
       "1  welcome to r depression s check in post a plac...              1   \n",
       "2  anyone else instead of sleeping more when depr...              1   \n",
       "3  i ve kind of stuffed around a lot in my life d...              1   \n",
       "4  sleep is my greatest and most comforting escap...              1   \n",
       "5  i m year old turning soon in a few month i liv...              1   \n",
       "6  i live alone and despite me being prone to lon...              1   \n",
       "7  i m not looking for sympathy just simply to st...              1   \n",
       "8  i don t know how to communicate all of my thou...              1   \n",
       "9  mom i m sad it hurt in my heart the feeling fa...              1   \n",
       "\n",
       "                                   preprocessed_text  \n",
       "0  understand people reply immediately op invitat...  \n",
       "1  welcome r depression s check post place moment...  \n",
       "2  instead sleep depressed stay night avoid day c...  \n",
       "3  ve kind stuff lot life delay inevitable have w...  \n",
       "4  sleep great comforting escape wake day literal...  \n",
       "5  m year old turning soon month live constant dr...  \n",
       "6  live despite prone loneliness find emotionally...  \n",
       "7  m look sympathy simply state m try survive m s...  \n",
       "8  don t know communicate thought stay inside ins...  \n",
       "9  mom m sad hurt heart feeling fall stomach t st...  "
      ]
     },
     "execution_count": 10,
     "metadata": {},
     "output_type": "execute_result"
    }
   ],
   "source": [
    "df.head(10)"
   ]
  },
  {
   "cell_type": "code",
   "execution_count": 11,
   "id": "e20e4eb9",
   "metadata": {},
   "outputs": [],
   "source": [
    "df['text_vector'] = df['preprocessed_text'].apply(lambda text:nlp(text).vector)"
   ]
  },
  {
   "cell_type": "code",
   "execution_count": 12,
   "id": "0f716a37",
   "metadata": {},
   "outputs": [
    {
     "data": {
      "text/html": [
       "<div>\n",
       "<style scoped>\n",
       "    .dataframe tbody tr th:only-of-type {\n",
       "        vertical-align: middle;\n",
       "    }\n",
       "\n",
       "    .dataframe tbody tr th {\n",
       "        vertical-align: top;\n",
       "    }\n",
       "\n",
       "    .dataframe thead th {\n",
       "        text-align: right;\n",
       "    }\n",
       "</style>\n",
       "<table border=\"1\" class=\"dataframe\">\n",
       "  <thead>\n",
       "    <tr style=\"text-align: right;\">\n",
       "      <th></th>\n",
       "      <th>clean_text</th>\n",
       "      <th>is_depression</th>\n",
       "      <th>preprocessed_text</th>\n",
       "      <th>text_vector</th>\n",
       "    </tr>\n",
       "  </thead>\n",
       "  <tbody>\n",
       "    <tr>\n",
       "      <th>0</th>\n",
       "      <td>we understand that most people who reply immed...</td>\n",
       "      <td>1</td>\n",
       "      <td>understand people reply immediately op invitat...</td>\n",
       "      <td>[0.8455282, 0.45013258, -1.9158481, -0.0487481...</td>\n",
       "    </tr>\n",
       "    <tr>\n",
       "      <th>1</th>\n",
       "      <td>welcome to r depression s check in post a plac...</td>\n",
       "      <td>1</td>\n",
       "      <td>welcome r depression s check post place moment...</td>\n",
       "      <td>[0.6967796, 0.7215889, -0.9899501, -0.25296408...</td>\n",
       "    </tr>\n",
       "    <tr>\n",
       "      <th>2</th>\n",
       "      <td>anyone else instead of sleeping more when depr...</td>\n",
       "      <td>1</td>\n",
       "      <td>instead sleep depressed stay night avoid day c...</td>\n",
       "      <td>[0.46284378, 1.9265901, -3.2654982, -0.0917125...</td>\n",
       "    </tr>\n",
       "    <tr>\n",
       "      <th>3</th>\n",
       "      <td>i ve kind of stuffed around a lot in my life d...</td>\n",
       "      <td>1</td>\n",
       "      <td>ve kind stuff lot life delay inevitable have w...</td>\n",
       "      <td>[0.42217827, 0.7715917, -3.5295572, -1.382153,...</td>\n",
       "    </tr>\n",
       "    <tr>\n",
       "      <th>4</th>\n",
       "      <td>sleep is my greatest and most comforting escap...</td>\n",
       "      <td>1</td>\n",
       "      <td>sleep great comforting escape wake day literal...</td>\n",
       "      <td>[0.36141968, 1.4885333, -2.4432557, -1.5032272...</td>\n",
       "    </tr>\n",
       "    <tr>\n",
       "      <th>5</th>\n",
       "      <td>i m year old turning soon in a few month i liv...</td>\n",
       "      <td>1</td>\n",
       "      <td>m year old turning soon month live constant dr...</td>\n",
       "      <td>[0.61101425, 1.4473869, -3.691894, -2.0742376,...</td>\n",
       "    </tr>\n",
       "    <tr>\n",
       "      <th>6</th>\n",
       "      <td>i live alone and despite me being prone to lon...</td>\n",
       "      <td>1</td>\n",
       "      <td>live despite prone loneliness find emotionally...</td>\n",
       "      <td>[0.26670077, 1.2176007, -2.9347131, -0.9656231...</td>\n",
       "    </tr>\n",
       "    <tr>\n",
       "      <th>7</th>\n",
       "      <td>i m not looking for sympathy just simply to st...</td>\n",
       "      <td>1</td>\n",
       "      <td>m look sympathy simply state m try survive m s...</td>\n",
       "      <td>[0.64508307, 1.3247648, -3.4841676, -2.0204396...</td>\n",
       "    </tr>\n",
       "    <tr>\n",
       "      <th>8</th>\n",
       "      <td>i don t know how to communicate all of my thou...</td>\n",
       "      <td>1</td>\n",
       "      <td>don t know communicate thought stay inside ins...</td>\n",
       "      <td>[0.57261205, 1.7514446, -3.0676894, -0.9321338...</td>\n",
       "    </tr>\n",
       "    <tr>\n",
       "      <th>9</th>\n",
       "      <td>mom i m sad it hurt in my heart the feeling fa...</td>\n",
       "      <td>1</td>\n",
       "      <td>mom m sad hurt heart feeling fall stomach t st...</td>\n",
       "      <td>[0.71175456, 2.6162949, -4.2620287, -1.7215234...</td>\n",
       "    </tr>\n",
       "  </tbody>\n",
       "</table>\n",
       "</div>"
      ],
      "text/plain": [
       "                                          clean_text  is_depression  \\\n",
       "0  we understand that most people who reply immed...              1   \n",
       "1  welcome to r depression s check in post a plac...              1   \n",
       "2  anyone else instead of sleeping more when depr...              1   \n",
       "3  i ve kind of stuffed around a lot in my life d...              1   \n",
       "4  sleep is my greatest and most comforting escap...              1   \n",
       "5  i m year old turning soon in a few month i liv...              1   \n",
       "6  i live alone and despite me being prone to lon...              1   \n",
       "7  i m not looking for sympathy just simply to st...              1   \n",
       "8  i don t know how to communicate all of my thou...              1   \n",
       "9  mom i m sad it hurt in my heart the feeling fa...              1   \n",
       "\n",
       "                                   preprocessed_text  \\\n",
       "0  understand people reply immediately op invitat...   \n",
       "1  welcome r depression s check post place moment...   \n",
       "2  instead sleep depressed stay night avoid day c...   \n",
       "3  ve kind stuff lot life delay inevitable have w...   \n",
       "4  sleep great comforting escape wake day literal...   \n",
       "5  m year old turning soon month live constant dr...   \n",
       "6  live despite prone loneliness find emotionally...   \n",
       "7  m look sympathy simply state m try survive m s...   \n",
       "8  don t know communicate thought stay inside ins...   \n",
       "9  mom m sad hurt heart feeling fall stomach t st...   \n",
       "\n",
       "                                         text_vector  \n",
       "0  [0.8455282, 0.45013258, -1.9158481, -0.0487481...  \n",
       "1  [0.6967796, 0.7215889, -0.9899501, -0.25296408...  \n",
       "2  [0.46284378, 1.9265901, -3.2654982, -0.0917125...  \n",
       "3  [0.42217827, 0.7715917, -3.5295572, -1.382153,...  \n",
       "4  [0.36141968, 1.4885333, -2.4432557, -1.5032272...  \n",
       "5  [0.61101425, 1.4473869, -3.691894, -2.0742376,...  \n",
       "6  [0.26670077, 1.2176007, -2.9347131, -0.9656231...  \n",
       "7  [0.64508307, 1.3247648, -3.4841676, -2.0204396...  \n",
       "8  [0.57261205, 1.7514446, -3.0676894, -0.9321338...  \n",
       "9  [0.71175456, 2.6162949, -4.2620287, -1.7215234...  "
      ]
     },
     "execution_count": 12,
     "metadata": {},
     "output_type": "execute_result"
    }
   ],
   "source": [
    "df.head(10)"
   ]
  },
  {
   "cell_type": "code",
   "execution_count": 13,
   "id": "00480b64",
   "metadata": {},
   "outputs": [],
   "source": [
    "df = df.sample(frac=1)"
   ]
  },
  {
   "cell_type": "code",
   "execution_count": 14,
   "id": "2181984c",
   "metadata": {},
   "outputs": [
    {
     "data": {
      "text/html": [
       "<div>\n",
       "<style scoped>\n",
       "    .dataframe tbody tr th:only-of-type {\n",
       "        vertical-align: middle;\n",
       "    }\n",
       "\n",
       "    .dataframe tbody tr th {\n",
       "        vertical-align: top;\n",
       "    }\n",
       "\n",
       "    .dataframe thead th {\n",
       "        text-align: right;\n",
       "    }\n",
       "</style>\n",
       "<table border=\"1\" class=\"dataframe\">\n",
       "  <thead>\n",
       "    <tr style=\"text-align: right;\">\n",
       "      <th></th>\n",
       "      <th>clean_text</th>\n",
       "      <th>is_depression</th>\n",
       "      <th>preprocessed_text</th>\n",
       "      <th>text_vector</th>\n",
       "    </tr>\n",
       "  </thead>\n",
       "  <tbody>\n",
       "    <tr>\n",
       "      <th>6471</th>\n",
       "      <td>fabianv what kind of doc and what are you usin...</td>\n",
       "      <td>0</td>\n",
       "      <td>fabianv kind doc write doc</td>\n",
       "      <td>[1.503166, -0.685304, 0.14212, -3.16054, -1.93...</td>\n",
       "    </tr>\n",
       "    <tr>\n",
       "      <th>2198</th>\n",
       "      <td>i ve been really struggling with suicidal thou...</td>\n",
       "      <td>1</td>\n",
       "      <td>ve struggle suicidal thought past week current...</td>\n",
       "      <td>[1.6281495, 1.8052666, -3.2089107, -1.140905, ...</td>\n",
       "    </tr>\n",
       "    <tr>\n",
       "      <th>3198</th>\n",
       "      <td>le supporter de seahawks regardant le supporte...</td>\n",
       "      <td>1</td>\n",
       "      <td>le supporter de seahawks regardant le supporte...</td>\n",
       "      <td>[-0.5187884, -1.2927675, 0.017471842, 2.272951...</td>\n",
       "    </tr>\n",
       "    <tr>\n",
       "      <th>348</th>\n",
       "      <td>i know problem have always existed many people...</td>\n",
       "      <td>1</td>\n",
       "      <td>know problem exist people depressed depress sh...</td>\n",
       "      <td>[0.80994016, 1.5645307, -3.11163, -1.2990757, ...</td>\n",
       "    </tr>\n",
       "    <tr>\n",
       "      <th>948</th>\n",
       "      <td>i hate the constant stress i hate the nonstop ...</td>\n",
       "      <td>1</td>\n",
       "      <td>hate constant stress hate nonstop work hate is...</td>\n",
       "      <td>[0.49633628, 1.2240479, -2.7359345, -0.7543606...</td>\n",
       "    </tr>\n",
       "    <tr>\n",
       "      <th>2507</th>\n",
       "      <td>i don t know if i want to die but i wish i was...</td>\n",
       "      <td>1</td>\n",
       "      <td>don t know want die wish wasn t bear fucking c...</td>\n",
       "      <td>[-0.106237136, 1.3469939, -2.4732172, -0.89960...</td>\n",
       "    </tr>\n",
       "    <tr>\n",
       "      <th>3394</th>\n",
       "      <td>efbwrites fantasypeddler my depression</td>\n",
       "      <td>1</td>\n",
       "      <td>efbwrites fantasypeddler depression</td>\n",
       "      <td>[0.19957, -0.64323336, -0.4908333, 0.73223335,...</td>\n",
       "    </tr>\n",
       "    <tr>\n",
       "      <th>2401</th>\n",
       "      <td>i just want the pain to end</td>\n",
       "      <td>1</td>\n",
       "      <td>want pain end</td>\n",
       "      <td>[1.4716668, 3.1513767, -4.1409664, 0.71550006,...</td>\n",
       "    </tr>\n",
       "    <tr>\n",
       "      <th>1996</th>\n",
       "      <td>i cant stop myself from purging my meal even w...</td>\n",
       "      <td>1</td>\n",
       "      <td>not stop purge meal know m day away die</td>\n",
       "      <td>[-1.5621144, 0.97435445, -3.6300278, -0.573880...</td>\n",
       "    </tr>\n",
       "    <tr>\n",
       "      <th>4889</th>\n",
       "      <td>sensesdestroyer i wan na go to lamb of god</td>\n",
       "      <td>0</td>\n",
       "      <td>sensesdestroyer wan na lamb god</td>\n",
       "      <td>[1.26817, 1.338114, -3.7916598, -0.47842604, -...</td>\n",
       "    </tr>\n",
       "  </tbody>\n",
       "</table>\n",
       "</div>"
      ],
      "text/plain": [
       "                                             clean_text  is_depression  \\\n",
       "6471  fabianv what kind of doc and what are you usin...              0   \n",
       "2198  i ve been really struggling with suicidal thou...              1   \n",
       "3198  le supporter de seahawks regardant le supporte...              1   \n",
       "348   i know problem have always existed many people...              1   \n",
       "948   i hate the constant stress i hate the nonstop ...              1   \n",
       "2507  i don t know if i want to die but i wish i was...              1   \n",
       "3394             efbwrites fantasypeddler my depression              1   \n",
       "2401                        i just want the pain to end              1   \n",
       "1996  i cant stop myself from purging my meal even w...              1   \n",
       "4889         sensesdestroyer i wan na go to lamb of god              0   \n",
       "\n",
       "                                      preprocessed_text  \\\n",
       "6471                         fabianv kind doc write doc   \n",
       "2198  ve struggle suicidal thought past week current...   \n",
       "3198  le supporter de seahawks regardant le supporte...   \n",
       "348   know problem exist people depressed depress sh...   \n",
       "948   hate constant stress hate nonstop work hate is...   \n",
       "2507  don t know want die wish wasn t bear fucking c...   \n",
       "3394                efbwrites fantasypeddler depression   \n",
       "2401                                      want pain end   \n",
       "1996            not stop purge meal know m day away die   \n",
       "4889                    sensesdestroyer wan na lamb god   \n",
       "\n",
       "                                            text_vector  \n",
       "6471  [1.503166, -0.685304, 0.14212, -3.16054, -1.93...  \n",
       "2198  [1.6281495, 1.8052666, -3.2089107, -1.140905, ...  \n",
       "3198  [-0.5187884, -1.2927675, 0.017471842, 2.272951...  \n",
       "348   [0.80994016, 1.5645307, -3.11163, -1.2990757, ...  \n",
       "948   [0.49633628, 1.2240479, -2.7359345, -0.7543606...  \n",
       "2507  [-0.106237136, 1.3469939, -2.4732172, -0.89960...  \n",
       "3394  [0.19957, -0.64323336, -0.4908333, 0.73223335,...  \n",
       "2401  [1.4716668, 3.1513767, -4.1409664, 0.71550006,...  \n",
       "1996  [-1.5621144, 0.97435445, -3.6300278, -0.573880...  \n",
       "4889  [1.26817, 1.338114, -3.7916598, -0.47842604, -...  "
      ]
     },
     "execution_count": 14,
     "metadata": {},
     "output_type": "execute_result"
    }
   ],
   "source": [
    "df.head(10)"
   ]
  },
  {
   "cell_type": "code",
   "execution_count": null,
   "id": "322e1662",
   "metadata": {},
   "outputs": [],
   "source": []
  },
  {
   "cell_type": "markdown",
   "id": "3a936ab4",
   "metadata": {},
   "source": [
    "# Training the model:"
   ]
  },
  {
   "cell_type": "markdown",
   "id": "a688295a",
   "metadata": {},
   "source": [
    "## (1) Using vectorised text"
   ]
  },
  {
   "cell_type": "code",
   "execution_count": 15,
   "id": "45686420",
   "metadata": {},
   "outputs": [],
   "source": [
    "\n",
    "\n",
    "Xvector_train,Xvector_test,yvector_train,yvector_test = train_test_split(df['text_vector'],\n",
    "                                                df['is_depression'],\n",
    "                                                test_size=0.2,\n",
    "                                                random_state=0)"
   ]
  },
  {
   "cell_type": "code",
   "execution_count": 16,
   "id": "c453cbe5",
   "metadata": {},
   "outputs": [
    {
     "data": {
      "text/plain": [
       "(1, 1)"
      ]
     },
     "execution_count": 16,
     "metadata": {},
     "output_type": "execute_result"
    }
   ],
   "source": [
    "Xvector_train.ndim,Xvector_test.ndim"
   ]
  },
  {
   "cell_type": "code",
   "execution_count": 17,
   "id": "a18e532a",
   "metadata": {},
   "outputs": [
    {
     "data": {
      "text/plain": [
       "((6184,), (1547,), (6184,), (1547,))"
      ]
     },
     "execution_count": 17,
     "metadata": {},
     "output_type": "execute_result"
    }
   ],
   "source": [
    "Xvector_train.shape,Xvector_test.shape,yvector_train.shape,yvector_test.shape"
   ]
  },
  {
   "cell_type": "code",
   "execution_count": 18,
   "id": "90fb37f0",
   "metadata": {},
   "outputs": [],
   "source": [
    "X_train_2d = np.stack(Xvector_train)\n",
    "X_test_2d = np.stack(Xvector_test)"
   ]
  },
  {
   "cell_type": "code",
   "execution_count": 20,
   "id": "a3b7c253",
   "metadata": {},
   "outputs": [
    {
     "data": {
      "text/plain": [
       "MultinomialNB()"
      ]
     },
     "execution_count": 20,
     "metadata": {},
     "output_type": "execute_result"
    }
   ],
   "source": [
    "\n",
    "\n",
    "\n",
    "scaler = MinMaxScaler()\n",
    "scaled2d_x_train = scaler.fit_transform(X_train_2d)\n",
    "scaled2d_x_test = scaler.transform(X_test_2d)\n",
    "\n",
    "\n",
    "clf = MultinomialNB()\n",
    "clf.fit(scaled2d_x_train,yvector_train)"
   ]
  },
  {
   "cell_type": "code",
   "execution_count": 23,
   "id": "6d713446",
   "metadata": {},
   "outputs": [
    {
     "name": "stdout",
     "output_type": "stream",
     "text": [
      "              precision    recall  f1-score   support\n",
      "\n",
      "           0       0.83      0.75      0.79       775\n",
      "           1       0.77      0.84      0.80       772\n",
      "\n",
      "    accuracy                           0.80      1547\n",
      "   macro avg       0.80      0.80      0.79      1547\n",
      "weighted avg       0.80      0.80      0.79      1547\n",
      "\n"
     ]
    }
   ],
   "source": [
    "y_pred = clf.predict(scaled2d_x_test)\n",
    "\n",
    "matrix = confusion_matrix(yvector_test,y_pred)\n",
    "print(classification_report(yvector_test, y_pred))"
   ]
  },
  {
   "cell_type": "code",
   "execution_count": 24,
   "id": "6c218573",
   "metadata": {},
   "outputs": [
    {
     "data": {
      "text/plain": [
       "Text(50.722222222222214, 0.5, 'Truth')"
      ]
     },
     "execution_count": 24,
     "metadata": {},
     "output_type": "execute_result"
    },
    {
     "data": {
      "image/png": "[encoded data removed]",
      "text/plain": [
       "<Figure size 640x480 with 2 Axes>"
      ]
     },
     "metadata": {},
     "output_type": "display_data"
    }
   ],
   "source": [
    "sns.heatmap(matrix,annot=True,fmt='d',cmap='Purples_r')\n",
    "plt.xlabel('Prediction')\n",
    "plt.ylabel('Truth')"
   ]
  },
  {
   "cell_type": "markdown",
   "id": "78e9764d",
   "metadata": {},
   "source": [
    "We need to minimise True negatives."
   ]
  },
  {
   "cell_type": "markdown",
   "id": "a8f47943",
   "metadata": {},
   "source": [
    "## (2) Using Pipeline with TF-idf"
   ]
  },
  {
   "cell_type": "code",
   "execution_count": 25,
   "id": "90e7dd65",
   "metadata": {},
   "outputs": [
    {
     "data": {
      "text/html": [
       "<div>\n",
       "<style scoped>\n",
       "    .dataframe tbody tr th:only-of-type {\n",
       "        vertical-align: middle;\n",
       "    }\n",
       "\n",
       "    .dataframe tbody tr th {\n",
       "        vertical-align: top;\n",
       "    }\n",
       "\n",
       "    .dataframe thead th {\n",
       "        text-align: right;\n",
       "    }\n",
       "</style>\n",
       "<table border=\"1\" class=\"dataframe\">\n",
       "  <thead>\n",
       "    <tr style=\"text-align: right;\">\n",
       "      <th></th>\n",
       "      <th>clean_text</th>\n",
       "      <th>is_depression</th>\n",
       "      <th>preprocessed_text</th>\n",
       "      <th>text_vector</th>\n",
       "    </tr>\n",
       "  </thead>\n",
       "  <tbody>\n",
       "    <tr>\n",
       "      <th>6471</th>\n",
       "      <td>fabianv what kind of doc and what are you usin...</td>\n",
       "      <td>0</td>\n",
       "      <td>fabianv kind doc write doc</td>\n",
       "      <td>[1.503166, -0.685304, 0.14212, -3.16054, -1.93...</td>\n",
       "    </tr>\n",
       "    <tr>\n",
       "      <th>2198</th>\n",
       "      <td>i ve been really struggling with suicidal thou...</td>\n",
       "      <td>1</td>\n",
       "      <td>ve struggle suicidal thought past week current...</td>\n",
       "      <td>[1.6281495, 1.8052666, -3.2089107, -1.140905, ...</td>\n",
       "    </tr>\n",
       "    <tr>\n",
       "      <th>3198</th>\n",
       "      <td>le supporter de seahawks regardant le supporte...</td>\n",
       "      <td>1</td>\n",
       "      <td>le supporter de seahawks regardant le supporte...</td>\n",
       "      <td>[-0.5187884, -1.2927675, 0.017471842, 2.272951...</td>\n",
       "    </tr>\n",
       "    <tr>\n",
       "      <th>348</th>\n",
       "      <td>i know problem have always existed many people...</td>\n",
       "      <td>1</td>\n",
       "      <td>know problem exist people depressed depress sh...</td>\n",
       "      <td>[0.80994016, 1.5645307, -3.11163, -1.2990757, ...</td>\n",
       "    </tr>\n",
       "    <tr>\n",
       "      <th>948</th>\n",
       "      <td>i hate the constant stress i hate the nonstop ...</td>\n",
       "      <td>1</td>\n",
       "      <td>hate constant stress hate nonstop work hate is...</td>\n",
       "      <td>[0.49633628, 1.2240479, -2.7359345, -0.7543606...</td>\n",
       "    </tr>\n",
       "  </tbody>\n",
       "</table>\n",
       "</div>"
      ],
      "text/plain": [
       "                                             clean_text  is_depression  \\\n",
       "6471  fabianv what kind of doc and what are you usin...              0   \n",
       "2198  i ve been really struggling with suicidal thou...              1   \n",
       "3198  le supporter de seahawks regardant le supporte...              1   \n",
       "348   i know problem have always existed many people...              1   \n",
       "948   i hate the constant stress i hate the nonstop ...              1   \n",
       "\n",
       "                                      preprocessed_text  \\\n",
       "6471                         fabianv kind doc write doc   \n",
       "2198  ve struggle suicidal thought past week current...   \n",
       "3198  le supporter de seahawks regardant le supporte...   \n",
       "348   know problem exist people depressed depress sh...   \n",
       "948   hate constant stress hate nonstop work hate is...   \n",
       "\n",
       "                                            text_vector  \n",
       "6471  [1.503166, -0.685304, 0.14212, -3.16054, -1.93...  \n",
       "2198  [1.6281495, 1.8052666, -3.2089107, -1.140905, ...  \n",
       "3198  [-0.5187884, -1.2927675, 0.017471842, 2.272951...  \n",
       "348   [0.80994016, 1.5645307, -3.11163, -1.2990757, ...  \n",
       "948   [0.49633628, 1.2240479, -2.7359345, -0.7543606...  "
      ]
     },
     "execution_count": 25,
     "metadata": {},
     "output_type": "execute_result"
    }
   ],
   "source": [
    "df.head()"
   ]
  },
  {
   "cell_type": "code",
   "execution_count": 26,
   "id": "7b49f721",
   "metadata": {},
   "outputs": [],
   "source": [
    "X_train,X_test,y_train,y_test = train_test_split(df['preprocessed_text'],\n",
    "                                                df['is_depression'],\n",
    "                                                test_size=0.2,\n",
    "                                                random_state=0)"
   ]
  },
  {
   "cell_type": "code",
   "execution_count": 27,
   "id": "a26f4597",
   "metadata": {},
   "outputs": [
    {
     "data": {
      "text/plain": [
       "((6184,), (1547,), (6184,), (1547,))"
      ]
     },
     "execution_count": 27,
     "metadata": {},
     "output_type": "execute_result"
    }
   ],
   "source": [
    "X_train.shape,X_test.shape,y_train.shape,y_test.shape\n"
   ]
  },
  {
   "cell_type": "code",
   "execution_count": 28,
   "id": "3200333e",
   "metadata": {},
   "outputs": [
    {
     "data": {
      "text/plain": [
       "Pipeline(steps=[('tfidf', TfidfVectorizer(ngram_range=(2, 3))),\n",
       "                ('nb', MultinomialNB())])"
      ]
     },
     "execution_count": 28,
     "metadata": {},
     "output_type": "execute_result"
    }
   ],
   "source": [
    "clf = Pipeline([\n",
    "    ('tfidf',TfidfVectorizer(ngram_range=(2,3))),\n",
    "    ('nb',MultinomialNB())\n",
    "])\n",
    "\n",
    "clf.fit(X_train,y= y_train)\n"
   ]
  },
  {
   "cell_type": "code",
   "execution_count": 29,
   "id": "4bb7a9fa",
   "metadata": {},
   "outputs": [
    {
     "name": "stdout",
     "output_type": "stream",
     "text": [
      "              precision    recall  f1-score   support\n",
      "\n",
      "           0       0.92      0.71      0.80       775\n",
      "           1       0.76      0.93      0.84       772\n",
      "\n",
      "    accuracy                           0.82      1547\n",
      "   macro avg       0.84      0.82      0.82      1547\n",
      "weighted avg       0.84      0.82      0.82      1547\n",
      "\n"
     ]
    }
   ],
   "source": [
    "y_pred = clf.predict(X_test)\n",
    "\n",
    "matrix_mb = confusion_matrix(y_test,y_pred)\n",
    "print(classification_report(y_test,y_pred))"
   ]
  },
  {
   "cell_type": "code",
   "execution_count": 30,
   "id": "33a23cf0",
   "metadata": {},
   "outputs": [
    {
     "data": {
      "text/plain": [
       "Text(50.722222222222214, 0.5, 'Truth')"
      ]
     },
     "execution_count": 30,
     "metadata": {},
     "output_type": "execute_result"
    },
    {
     "data": {
      "image/png": "[encoded data removed]",
      "text/plain": [
       "<Figure size 640x480 with 2 Axes>"
      ]
     },
     "metadata": {},
     "output_type": "display_data"
    }
   ],
   "source": [
    "sns.heatmap(matrix_mb,annot=True,fmt='d',cmap=\"Purples_r\")\n",
    "plt.xlabel('Prediction')\n",
    "plt.ylabel('Truth')"
   ]
  },
  {
   "cell_type": "markdown",
   "id": "53ccf57e",
   "metadata": {},
   "source": [
    "We managed to decrease the number of True Negatives, but we still have very high number of False Positives"
   ]
  },
  {
   "cell_type": "markdown",
   "id": "c60e3d09",
   "metadata": {},
   "source": [
    "## (3) Using KNN"
   ]
  },
  {
   "cell_type": "code",
   "execution_count": 31,
   "id": "50df7033",
   "metadata": {},
   "outputs": [
    {
     "name": "stdout",
     "output_type": "stream",
     "text": [
      "              precision    recall  f1-score   support\n",
      "\n",
      "           0       0.95      0.72      0.82       775\n",
      "           1       0.77      0.96      0.86       772\n",
      "\n",
      "    accuracy                           0.84      1547\n",
      "   macro avg       0.86      0.84      0.84      1547\n",
      "weighted avg       0.86      0.84      0.84      1547\n",
      "\n"
     ]
    },
    {
     "name": "stderr",
     "output_type": "stream",
     "text": [
      "C:\\Users\\tanze\\anaconda3\\lib\\site-packages\\sklearn\\neighbors\\_classification.py:228: FutureWarning: Unlike other reduction functions (e.g. `skew`, `kurtosis`), the default behavior of `mode` typically preserves the axis it acts along. In SciPy 1.11.0, this behavior will change: the default value of `keepdims` will become False, the `axis` over which the statistic is taken will be eliminated, and the value None will no longer be accepted. Set `keepdims` to True or False to avoid this warning.\n",
      "  mode, _ = stats.mode(_y[neigh_ind, k], axis=1)\n"
     ]
    }
   ],
   "source": [
    "from  sklearn.neighbors import KNeighborsClassifier\n",
    "\n",
    "clf = Pipeline([\n",
    "    ('tfidf',TfidfVectorizer(ngram_range=(1,3))),\n",
    "    ('knn',KNeighborsClassifier(n_neighbors=70,metric='euclidean'))\n",
    "])\n",
    "\n",
    "clf.fit(X_train, y_train)\n",
    "\n",
    "y_pred = clf.predict(X_test)\n",
    "\n",
    "matrix_knn = confusion_matrix(y_test,y_pred)\n",
    "print(classification_report(y_test, y_pred))"
   ]
  },
  {
   "cell_type": "code",
   "execution_count": 32,
   "id": "63d78c57",
   "metadata": {},
   "outputs": [
    {
     "data": {
      "text/plain": [
       "Text(50.722222222222214, 0.5, 'Truth')"
      ]
     },
     "execution_count": 32,
     "metadata": {},
     "output_type": "execute_result"
    },
    {
     "data": {
      "image/png": "[encoded data removed]",
      "text/plain": [
       "<Figure size 640x480 with 2 Axes>"
      ]
     },
     "metadata": {},
     "output_type": "display_data"
    }
   ],
   "source": [
    "sns.heatmap(matrix_knn,annot=True,fmt='d',cmap=\"Purples_r\")\n",
    "plt.xlabel('Prediction')\n",
    "plt.ylabel('Truth')"
   ]
  },
  {
   "cell_type": "markdown",
   "id": "256614cc",
   "metadata": {},
   "source": [
    "## (4) Using SVM"
   ]
  },
  {
   "cell_type": "code",
   "execution_count": 44,
   "id": "773d3921",
   "metadata": {},
   "outputs": [
    {
     "name": "stdout",
     "output_type": "stream",
     "text": [
      "              precision    recall  f1-score   support\n",
      "\n",
      "           0       0.97      0.88      0.93       775\n",
      "           1       0.89      0.97      0.93       772\n",
      "\n",
      "    accuracy                           0.93      1547\n",
      "   macro avg       0.93      0.93      0.93      1547\n",
      "weighted avg       0.93      0.93      0.93      1547\n",
      "\n"
     ]
    }
   ],
   "source": [
    "from sklearn import svm\n",
    "\n",
    "clf = Pipeline([\n",
    "    ('tfidf',TfidfVectorizer(ngram_range=(1,3))),\n",
    "    ('svn',svm.SVC(kernel='sigmoid'))\n",
    "])\n",
    "\n",
    "clf.fit(X_train, y_train)\n",
    "\n",
    "y_pred = clf.predict(X_test)\n",
    "\n",
    "matrix_svm = confusion_matrix(y_test,y_pred)\n",
    "print(classification_report(y_test, y_pred))"
   ]
  },
  {
   "cell_type": "code",
   "execution_count": 45,
   "id": "07a32ed9",
   "metadata": {},
   "outputs": [
    {
     "data": {
      "text/plain": [
       "Text(50.722222222222214, 0.5, 'Truth')"
      ]
     },
     "execution_count": 45,
     "metadata": {},
     "output_type": "execute_result"
    },
    {
     "data": {
      "image/png": "[encoded data removed]",
      "text/plain": [
       "<Figure size 640x480 with 2 Axes>"
      ]
     },
     "metadata": {},
     "output_type": "display_data"
    }
   ],
   "source": [
    "sns.heatmap(matrix_svm,annot=True,fmt='d',cmap=\"Purples_r\")\n",
    "plt.xlabel('Prediction')\n",
    "plt.ylabel('Truth')"
   ]
  },
  {
   "cell_type": "code",
   "execution_count": null,
   "id": "831a0cb9",
   "metadata": {},
   "outputs": [],
   "source": []
  },
  {
   "cell_type": "code",
   "execution_count": null,
   "id": "29b70df3",
   "metadata": {},
   "outputs": [],
   "source": []
  }
 ],
 "metadata": {
  "kernelspec": {
   "display_name": "Python 3",
   "language": "python",
   "name": "python3"
  },
  "language_info": {
   "codemirror_mode": {
    "name": "ipython",
    "version": 3
   },
   "file_extension": ".py",
   "mimetype": "text/x-python",
   "name": "python",
   "nbconvert_exporter": "python",
   "pygments_lexer": "ipython3",
   "version": "3.9.13"
  }
 },
 "nbformat": 4,
 "nbformat_minor": 5
}
